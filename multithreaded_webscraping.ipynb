{
  "nbformat": 4,
  "nbformat_minor": 0,
  "metadata": {
    "colab": {
      "name": "multithreaded-webscraping.ipynb",
      "provenance": [],
      "collapsed_sections": [
        "m6c_wU1lc7zM"
      ],
      "authorship_tag": "ABX9TyNeT7RlduwDztgbIPRYK3Oz",
      "include_colab_link": true
    },
    "kernelspec": {
      "name": "python3",
      "display_name": "Python 3"
    }
  },
  "cells": [
    {
      "cell_type": "markdown",
      "metadata": {
        "id": "view-in-github",
        "colab_type": "text"
      },
      "source": [
        "<a href=\"https://colab.research.google.com/github/daryllman/multithreaded-webscraper/blob/master/multithreaded_webscraping.ipynb\" target=\"_parent\"><img src=\"https://colab.research.google.com/assets/colab-badge.svg\" alt=\"Open In Colab\"/></a>"
      ]
    },
    {
      "cell_type": "markdown",
      "metadata": {
        "id": "rD0kd_VNvuzA"
      },
      "source": [
        "# Introduction\n",
        "In this webscraping tutorial, we will explore the concept of **multithreading** in python to help speed up our webscraping tasks (up to 10x in this tutorial)    \n",
        "We will scraping movie related data from IMDB website - [Most Popular Movies](https://www.imdb.com/chart/moviemeter/?ref_=nv_mv_mpm) - a total of 100 movies and retrieving some movie details (name, rating, date, plot text). Subsequently, we will be saving these into a .csv file.   \n",
        "\n",
        "Have fun :)"
      ]
    },
    {
      "cell_type": "markdown",
      "metadata": {
        "id": "6lBRdm9Ew1zS"
      },
      "source": [
        "# Getting Started\n",
        "Please make sure you run the 2 steps below:\n",
        "- Mounting your Google Drive (only for saving files to your gdrive on collab)\n",
        "- Load the necessary libraries"
      ]
    },
    {
      "cell_type": "markdown",
      "metadata": {
        "id": "DbNqhMvfgT8B"
      },
      "source": [
        "## Google Drive Mounting\n",
        "Lets mount to our google drive as the tutorial below involves saving .csv file"
      ]
    },
    {
      "cell_type": "code",
      "metadata": {
        "id": "0uL4ykcY9Gn3"
      },
      "source": [
        "# Mount to your google drive\n",
        "from google.colab import drive\n",
        "drive.mount('/content/drive')"
      ],
      "execution_count": null,
      "outputs": []
    },
    {
      "cell_type": "code",
      "metadata": {
        "id": "smvASWztsGOZ"
      },
      "source": [
        "# Check that your gdrive is properly mounted and ready to go\n",
        "with open('/content/drive/My Drive/Colab Notebooks/assets/foo.txt', 'w') as f:\n",
        "  f.write('If you see this printed in console, everything is good:)')\n",
        "!cat /content/drive/My\\ Drive//Colab\\ Notebooks/assets/foo.txt"
      ],
      "execution_count": null,
      "outputs": []
    },
    {
      "cell_type": "markdown",
      "metadata": {
        "id": "iVDMYn7Ne72T"
      },
      "source": [
        "## Load necessary libraries\n",
        "Using mainly: \n",
        "- Python Requests library (to retrieve html document)\n",
        "- BeautifulSoup (great html parser)"
      ]
    },
    {
      "cell_type": "code",
      "metadata": {
        "id": "bV1KRt3Je5q6"
      },
      "source": [
        "import requests\n",
        "from bs4 import BeautifulSoup as bs # pip install beautifulsoup4\n",
        "import time\n",
        "import csv\n",
        "import random\n",
        "headers = {'User-Agent': 'Mozilla/5.0 (Macintosh; Intel Mac OS X 10_10_1) AppleWebKit/537.36 (KHTML, like Gecko) Chrome/39.0.2171.95 Safari/537.36'} # global headers to be used for requests"
      ],
      "execution_count": null,
      "outputs": []
    },
    {
      "cell_type": "markdown",
      "metadata": {
        "id": "m6c_wU1lc7zM"
      },
      "source": [
        "# Webscraping Exploration\n",
        "Exploring the IMDB website and parsing the html with BeautifulSoup to get the details we want"
      ]
    },
    {
      "cell_type": "code",
      "metadata": {
        "id": "9AuaNuREfCKH"
      },
      "source": [
        "# Load the webpage\n",
        "target_url = 'https://www.imdb.com/chart/moviemeter/?ref_=nv_mv_mpm' # IMDB Most Popular Movies\n",
        "\n",
        "headers = {'User-Agent': 'Mozilla/5.0 (Macintosh; Intel Mac OS X 10_10_1) AppleWebKit/537.36 (KHTML, like Gecko) Chrome/39.0.2171.95 Safari/537.36'}\n",
        "r = requests.get(target_url, headers=headers)\n",
        "\n",
        "# Convert to a beautiful soup object\n",
        "soup = bs(r.content)"
      ],
      "execution_count": null,
      "outputs": []
    },
    {
      "cell_type": "code",
      "metadata": {
        "id": "FeoyG1UZxbxK"
      },
      "source": [
        "movies_table = soup.find(\"table\", attrs={\"data-caller-name\": \"chart-moviemeter\"}).find(\"tbody\")\n",
        "movies_tablerows = movies_table.find_all(\"tr\")\n",
        "movie_links = [\"https://imdb.com\" + movie.find(\"a\")[\"href\"] for movie in movies_tablerows]\n",
        "movie_links"
      ],
      "execution_count": null,
      "outputs": []
    },
    {
      "cell_type": "code",
      "metadata": {
        "id": "nk1Oemod20TQ"
      },
      "source": [
        "movie = movie_links[0] # picking the first movie, just to see\n",
        "movie_soup = bs(requests.get(movie, headers=headers).content)"
      ],
      "execution_count": null,
      "outputs": []
    },
    {
      "cell_type": "code",
      "metadata": {
        "id": "uF3np7Ib39iB"
      },
      "source": [
        "# Extract some details from a single movie\n",
        "title = movie_soup.find(\"div\", attrs={\"class\": \"title_wrapper\"}).find(\"h1\").get_text()\n",
        "date = movie_soup.find(\"div\", attrs={\"class\": \"title_wrapper\"}).find(\"a\", attrs={\"title\": \"See more release dates\"}).get_text().strip()\n",
        "rating = movie_soup.find(\"span\", attrs={\"itemprop\": \"ratingValue\"}).get_text()\n",
        "plot_text = movie_soup.find(\"div\", attrs={\"class\": \"summary_text\"}).get_text().strip()\n",
        "print(title, date, rating, plot_text) # If this print is okay, then we are good with this!"
      ],
      "execution_count": null,
      "outputs": []
    },
    {
      "cell_type": "markdown",
      "metadata": {
        "id": "SD8DkzJXxI0R"
      },
      "source": [
        "# Tutorials\n",
        "I have added full comprehensive codes of **4 different ways of webscraping** data from IMDB's website            \n",
        "1. Without Multithreading - Normal\n",
        "2. Multithreading\n",
        "3. Multithreading + Lock\n",
        "4. Multithreading + Shared Queue"
      ]
    },
    {
      "cell_type": "markdown",
      "metadata": {
        "id": "lF6jOCJod2ES"
      },
      "source": [
        "## 1. Without Multithreading - Normal\n",
        "\n",
        "\n"
      ]
    },
    {
      "cell_type": "code",
      "metadata": {
        "id": "yHrmC-96d9s1"
      },
      "source": [
        "def extract_movie_details(movie_link):\n",
        "  time.sleep(random.uniform(0, 0.2))\n",
        "  movie_soup = bs(requests.get(movie_link, headers=headers).content)\n",
        "  title = movie_soup.find(\"div\", attrs={\"class\": \"title_wrapper\"}).find(\"h1\").get_text()\n",
        "  date = movie_soup.find(\"div\", attrs={\"class\": \"title_wrapper\"}).find(\"a\", attrs={\"title\": \"See more release dates\"}).get_text().strip() if movie_soup.find(\"div\", attrs={\"class\": \"title_wrapper\"}).find(\"a\", attrs={\"title\": \"See more release dates\"}) else None\n",
        "  rating = movie_soup.find(\"span\", attrs={\"itemprop\": \"ratingValue\"}).get_text() if movie_soup.find(\"span\", attrs={\"itemprop\": \"ratingValue\"}) else None\n",
        "  plot_text = movie_soup.find(\"div\", attrs={\"class\": \"summary_text\"}).get_text().strip() if movie_soup.find(\"div\", attrs={\"class\": \"summary_text\"}) else None\n",
        "  print(title, date, rating, plot_text) # If this print is okay, then we are good with this!\n",
        " \n",
        "  with open('/content/drive/My Drive/Colab Notebooks/assets/movies.csv', mode='a') as f:\n",
        "    movie_writer = csv.writer(f, delimiter=',', quotechar='\"', quoting=csv.QUOTE_MINIMAL)\n",
        "    movie_writer.writerow([title, date, rating, plot_text])\n",
        "\n",
        "\n",
        "\n",
        "def extract_movies(soup):\n",
        "  movies_table = soup.find(\"table\", attrs={\"data-caller-name\": \"chart-moviemeter\"}).find(\"tbody\")\n",
        "  movies_tablerows = movies_table.find_all(\"tr\")\n",
        "  movie_links = [\"https://imdb.com\" + movie.find(\"a\")[\"href\"] for movie in movies_tablerows]\n",
        "  \n",
        "  for movie_link in movie_links:\n",
        "    extract_movie_details(movie_link)\n",
        "\n",
        "\n",
        "\n",
        "\n",
        "def main():\n",
        "  start_time = time.time()\n",
        "  popular_movies_url = 'https://www.imdb.com/chart/moviemeter/?ref_=nv_mv_mpm' # IMDB Most Popular Movies - 100 movies\n",
        "  r = requests.get(popular_movies_url, headers=headers)\n",
        "  soup = bs(r.content)\n",
        "  \n",
        "  # Main function to extract the 100 movies from IMDB Most Popular Movies\n",
        "  extract_movies(soup)\n",
        "  \n",
        "  end_time = time.time()\n",
        "  print(\"Total time taken: \", end_time-start_time)\n",
        "\n",
        "\n",
        "main()\n"
      ],
      "execution_count": null,
      "outputs": []
    },
    {
      "cell_type": "markdown",
      "metadata": {
        "id": "-TuI968svyIF"
      },
      "source": [
        "## 2. Multithreading"
      ]
    },
    {
      "cell_type": "code",
      "metadata": {
        "id": "GWM4XM_ev_pk"
      },
      "source": [
        "import concurrent.futures\n",
        "\n",
        "MAX_THREADS = 10\n",
        "\n",
        "def extract_movie_details(movie_link):\n",
        "  time.sleep(random.uniform(0, 0.2))\n",
        "  movie_soup = bs(requests.get(movie_link, headers=headers).content)\n",
        "\n",
        "  title = movie_soup.find(\"div\", attrs={\"class\": \"title_wrapper\"}).find(\"h1\").get_text()\n",
        "  date = movie_soup.find(\"div\", attrs={\"class\": \"title_wrapper\"}).find(\"a\", attrs={\"title\": \"See more release dates\"}).get_text().strip() if movie_soup.find(\"div\", attrs={\"class\": \"title_wrapper\"}).find(\"a\", attrs={\"title\": \"See more release dates\"}) else None\n",
        "  rating = movie_soup.find(\"span\", attrs={\"itemprop\": \"ratingValue\"}).get_text() if movie_soup.find(\"span\", attrs={\"itemprop\": \"ratingValue\"}) else None\n",
        "  plot_text = movie_soup.find(\"div\", attrs={\"class\": \"summary_text\"}).get_text().strip() if movie_soup.find(\"div\", attrs={\"class\": \"summary_text\"}) else None\n",
        "  print(title, date, rating, plot_text) # If this print is okay, then we are good with this!\n",
        " \n",
        "  with open('/content/drive/My Drive/Colab Notebooks/assets/movies.csv', mode='a') as f:\n",
        "    movie_writer = csv.writer(f, delimiter=',', quotechar='\"', quoting=csv.QUOTE_MINIMAL)\n",
        "    movie_writer.writerow([title, date, rating, plot_text])\n",
        "\n",
        "\n",
        "\n",
        "def extract_movies(soup):\n",
        "  movies_table = soup.find(\"table\", attrs={\"data-caller-name\": \"chart-moviemeter\"}).find(\"tbody\")\n",
        "  movies_tablerows = movies_table.find_all(\"tr\")\n",
        "  movie_links = [\"https://imdb.com\" + movie.find(\"a\")[\"href\"] for movie in movies_tablerows]\n",
        "  \n",
        "  threads = min(MAX_THREADS, len(movie_links))\n",
        "  with concurrent.futures.ThreadPoolExecutor(max_workers=MAX_THREADS) as executor:\n",
        "    executor.map(extract_movie_details, movie_links)\n",
        "\n",
        "\n",
        "\n",
        "\n",
        "def main():\n",
        "  start_time = time.time()\n",
        "  popular_movies_url = 'https://www.imdb.com/chart/moviemeter/?ref_=nv_mv_mpm' # IMDB Most Popular Movies - 100 movies\n",
        "  headers = {'User-Agent': 'Mozilla/5.0 (Macintosh; Intel Mac OS X 10_10_1) AppleWebKit/537.36 (KHTML, like Gecko) Chrome/39.0.2171.95 Safari/537.36'}\n",
        "  r = requests.get(popular_movies_url, headers=headers)\n",
        "  soup = bs(r.content)\n",
        "  \n",
        "  # Main function to extract the 100 movies from IMDB Most Popular Movies\n",
        "  extract_movies(soup)\n",
        "  \n",
        "  end_time = time.time()\n",
        "  print(\"Total time taken: \", end_time-start_time)\n",
        "\n",
        "\n",
        "main()\n"
      ],
      "execution_count": null,
      "outputs": []
    },
    {
      "cell_type": "markdown",
      "metadata": {
        "id": "AT7IJa6wBUqM"
      },
      "source": [
        "## 3. Multithreading + Lock"
      ]
    },
    {
      "cell_type": "code",
      "metadata": {
        "id": "hkFesAddBZkM"
      },
      "source": [
        "import concurrent.futures\n",
        "import threading\n",
        "csv_writer_lock = threading.Lock() # only one thread can hold this lock at one time\n",
        "\n",
        "MAX_THREADS = 10\n",
        "\n",
        "def extract_movie_details(movie_link):\n",
        "  time.sleep(random.uniform(0, 0.2))\n",
        "  movie_soup = bs(requests.get(movie_link, headers=headers).content)\n",
        "\n",
        "  title = movie_soup.find(\"div\", attrs={\"class\": \"title_wrapper\"}).find(\"h1\").get_text()\n",
        "  date = movie_soup.find(\"div\", attrs={\"class\": \"title_wrapper\"}).find(\"a\", attrs={\"title\": \"See more release dates\"}).get_text().strip() if movie_soup.find(\"div\", attrs={\"class\": \"title_wrapper\"}).find(\"a\", attrs={\"title\": \"See more release dates\"}) else None\n",
        "  rating = movie_soup.find(\"span\", attrs={\"itemprop\": \"ratingValue\"}).get_text() if movie_soup.find(\"span\", attrs={\"itemprop\": \"ratingValue\"}) else None\n",
        "  plot_text = movie_soup.find(\"div\", attrs={\"class\": \"summary_text\"}).get_text().strip() if movie_soup.find(\"div\", attrs={\"class\": \"summary_text\"}) else None\n",
        "  print(title, date, rating, plot_text) # If this print is okay, then we are good with this!\n",
        "\n",
        "  # Only one thread allowed to access the csv file at one time\n",
        "  with csv_writer_lock:\n",
        "    with open('/content/drive/My Drive/Colab Notebooks/assets/movies.csv', mode='a') as f:\n",
        "      movie_writer = csv.writer(f, delimiter=',', quotechar='\"', quoting=csv.QUOTE_MINIMAL)\n",
        "      movie_writer.writerow([title, date, rating, plot_text])\n",
        "\n",
        "\n",
        "\n",
        "def extract_movies(soup):\n",
        "  movies_table = soup.find(\"table\", attrs={\"data-caller-name\": \"chart-moviemeter\"}).find(\"tbody\")\n",
        "  movies_tablerows = movies_table.find_all(\"tr\")\n",
        "  movie_links = [\"https://imdb.com\" + movie.find(\"a\")[\"href\"] for movie in movies_tablerows]\n",
        "  \n",
        "  threads = min(MAX_THREADS, len(movie_links))\n",
        "  with concurrent.futures.ThreadPoolExecutor(max_workers=MAX_THREADS) as executor:\n",
        "    executor.map(extract_movie_details, movie_links)\n",
        "\n",
        "\n",
        "\n",
        "\n",
        "def main():\n",
        "  start_time = time.time()\n",
        "  popular_movies_url = 'https://www.imdb.com/chart/moviemeter/?ref_=nv_mv_mpm' # IMDB Most Popular Movies - 100 movies\n",
        "  headers = {'User-Agent': 'Mozilla/5.0 (Macintosh; Intel Mac OS X 10_10_1) AppleWebKit/537.36 (KHTML, like Gecko) Chrome/39.0.2171.95 Safari/537.36'}\n",
        "  r = requests.get(popular_movies_url, headers=headers)\n",
        "  soup = bs(r.content)\n",
        "  \n",
        "  # Main function to extract the 100 movies from IMDB Most Popular Movies\n",
        "  extract_movies(soup)\n",
        "  \n",
        "  end_time = time.time()\n",
        "  print(\"Total time taken: \", end_time-start_time)\n",
        "\n",
        "\n",
        "main()\n"
      ],
      "execution_count": null,
      "outputs": []
    },
    {
      "cell_type": "markdown",
      "metadata": {
        "id": "KH5snuV8CRFf"
      },
      "source": [
        "## 4. Multithreading + Shared Queue"
      ]
    },
    {
      "cell_type": "code",
      "metadata": {
        "id": "-nI7mRDGCX-H"
      },
      "source": [
        "import concurrent.futures\n",
        "from threading import Thread\n",
        "from queue import Queue\n",
        "from random import randint\n",
        "MAX_THREADS = 10\n",
        "\n",
        "extraction_queue = Queue()\n",
        "\n",
        "def extraction():\n",
        "  while True:\n",
        "    if not extraction_queue.empty():\n",
        "      i = extraction_queue.get()\n",
        "\n",
        "      if i == None: # end of job\n",
        "        break\n",
        "\n",
        "      #row comes out of queue. csv writing goes here\n",
        "      with open('/content/drive/My Drive/Colab Notebooks/assets/movies.csv', mode='a') as f:\n",
        "        movie_writer = csv.writer(f, delimiter=',', quotechar='\"', quoting=csv.QUOTE_MINIMAL)\n",
        "        movie_writer.writerow([i['title'], i['date'], i['rating'], i['plot_text']])\n",
        "      print('Wrote to file: ', i['title'])\n",
        "      extraction_queue.task_done()\n",
        "\n",
        "def write_to_file(movie_details):\n",
        "  extraction_queue.put(movie_details)\n",
        "\n",
        "def extract_movie_details(movie_link):\n",
        "  time.sleep(random.uniform(0, 0.2))\n",
        "  movie_soup = bs(requests.get(movie_link, headers=headers).content)\n",
        "\n",
        "  title = movie_soup.find(\"div\", attrs={\"class\": \"title_wrapper\"}).find(\"h1\").get_text()\n",
        "  date = movie_soup.find(\"div\", attrs={\"class\": \"title_wrapper\"}).find(\"a\", attrs={\"title\": \"See more release dates\"}).get_text().strip() if movie_soup.find(\"div\", attrs={\"class\": \"title_wrapper\"}).find(\"a\", attrs={\"title\": \"See more release dates\"}) else None\n",
        "  rating = movie_soup.find(\"span\", attrs={\"itemprop\": \"ratingValue\"}).get_text() if movie_soup.find(\"span\", attrs={\"itemprop\": \"ratingValue\"}) else None\n",
        "  plot_text = movie_soup.find(\"div\", attrs={\"class\": \"summary_text\"}).get_text().strip() if movie_soup.find(\"div\", attrs={\"class\": \"summary_text\"}) else None\n",
        "  print(title, date, rating, plot_text) # If this print is okay, then we are good with this!\n",
        "  \n",
        "  write_to_file({'title': title, 'date': date, 'rating': rating, 'plot_text': plot_text})\n",
        "\n",
        "\n",
        "\n",
        "def extract_movies(soup):\n",
        "  movies_table = soup.find(\"table\", attrs={\"data-caller-name\": \"chart-moviemeter\"}).find(\"tbody\")\n",
        "  movies_tablerows = movies_table.find_all(\"tr\")\n",
        "  movie_links = [\"https://imdb.com\" + movie.find(\"a\")[\"href\"] for movie in movies_tablerows]\n",
        "  \n",
        "  threads = min(MAX_THREADS, len(movie_links))\n",
        "  with concurrent.futures.ThreadPoolExecutor(max_workers=MAX_THREADS) as executor:\n",
        "    executor.map(extract_movie_details, movie_links)\n",
        "\n",
        "\n",
        "\n",
        "\n",
        "\n",
        "def main():\n",
        "  start_time = time.time()\n",
        "\n",
        "  # Start consumer thread - dedicated thread to write movie details to file\n",
        "  consumer = Thread(target=extraction)\n",
        "  consumer.setDaemon(True)\n",
        "  consumer.start()\n",
        "\n",
        "  popular_movies_url = 'https://www.imdb.com/chart/moviemeter/?ref_=nv_mv_mpm' # IMDB Most Popular Movies - 100 movies\n",
        "  headers = {'User-Agent': 'Mozilla/5.0 (Macintosh; Intel Mac OS X 10_10_1) AppleWebKit/537.36 (KHTML, like Gecko) Chrome/39.0.2171.95 Safari/537.36'}\n",
        "  r = requests.get(popular_movies_url, headers=headers)\n",
        "  soup = bs(r.content)\n",
        "  \n",
        "  # Main function to extract the 100 movies from IMDB Most Popular Movies\n",
        "  extract_movies(soup)\n",
        "\n",
        "  # Signal to the queue that it is the end\n",
        "  extraction_queue.put(None)\n",
        "\n",
        "  # End queue\n",
        "  consumer.join()\n",
        "  \n",
        "  end_time = time.time()\n",
        "  print(\"Total time taken: \", end_time-start_time)\n",
        "\n",
        "main()\n"
      ],
      "execution_count": null,
      "outputs": []
    },
    {
      "cell_type": "markdown",
      "metadata": {
        "id": "-BtuJ5cU-hYS"
      },
      "source": [
        "# Credits\n",
        "- [Troy Fawkes ](https://www.troyfawkes.com/learn-python-multithreading-queues-basics/)\n",
        "- [StackOverflow d33tah](https://stackoverflow.com/questions/19387864/signal-the-end-of-jobs-on-the-queue)\n",
        "- [StackOverflow GreenGodot](https://stackoverflow.com/questions/33107019/multiple-threads-writing-to-the-same-csv-in-python)"
      ]
    }
  ]
}